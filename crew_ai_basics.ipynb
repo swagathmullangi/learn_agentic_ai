{
  "nbformat": 4,
  "nbformat_minor": 0,
  "metadata": {
    "colab": {
      "provenance": [],
      "collapsed_sections": [
        "bdmOSFklRX4V",
        "ShYBulstR_xe"
      ],
      "authorship_tag": "ABX9TyM/qHd63I2hDsmtUPp3rbyR",
      "include_colab_link": true
    },
    "kernelspec": {
      "name": "python3",
      "display_name": "Python 3"
    },
    "language_info": {
      "name": "python"
    }
  },
  "cells": [
    {
      "cell_type": "markdown",
      "metadata": {
        "id": "view-in-github",
        "colab_type": "text"
      },
      "source": [
        "<a href=\"https://colab.research.google.com/github/swagathmullangi/learn_agentic_ai/blob/main/crew_ai_basics.ipynb\" target=\"_parent\"><img src=\"https://colab.research.google.com/assets/colab-badge.svg\" alt=\"Open In Colab\"/></a>"
      ]
    },
    {
      "cell_type": "code",
      "execution_count": null,
      "metadata": {
        "id": "6gmVV9ExyBWq"
      },
      "outputs": [],
      "source": [
        "# ! pip install langchain_community langchain_openai faiss-cpu langchain_tavily langchain sentence-transformers langchain-huggingface langchain-groq crewai crewai_tools"
      ]
    },
    {
      "cell_type": "code",
      "source": [
        "import os\n",
        "os.environ[\"TAVILY_API_KEY\"] = \"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\"\n",
        "\n",
        "from langchain_community.document_loaders import WebBaseLoader\n",
        "loader = WebBaseLoader(\"https://www.ibm.com/think/topics/ai-agents\")\n",
        "web_content = loader.load()\n",
        "\n",
        "from langchain_text_splitters import RecursiveCharacterTextSplitter\n",
        "text_splitter = RecursiveCharacterTextSplitter(chunk_size=500, chunk_overlap=100)\n",
        "chunks = text_splitter.split_documents(web_content)"
      ],
      "metadata": {
        "colab": {
          "base_uri": "https://localhost:8080/"
        },
        "id": "9juDM6DMyMk2",
        "outputId": "36c81ce3-eedc-42a4-df7f-8f1ff1fba331"
      },
      "execution_count": null,
      "outputs": [
        {
          "output_type": "stream",
          "name": "stderr",
          "text": [
            "WARNING:langchain_community.utils.user_agent:USER_AGENT environment variable not set, consider setting it to identify your requests.\n"
          ]
        }
      ]
    },
    {
      "cell_type": "code",
      "source": [
        "from langchain_huggingface import HuggingFaceEmbeddings\n",
        "embeddings = HuggingFaceEmbeddings(model=\"sentence-transformers/all-mpnet-base-v2\")\n",
        "\n",
        "from langchain.vectorstores import FAISS\n",
        "db = FAISS.from_documents(chunks, embeddings)\n",
        "retriever = db.as_retriever()"
      ],
      "metadata": {
        "colab": {
          "base_uri": "https://localhost:8080/"
        },
        "id": "AUFwYDnczsW0",
        "outputId": "7fb8ec6c-f15b-4745-b51a-9d9e3fb9c366"
      },
      "execution_count": null,
      "outputs": [
        {
          "output_type": "stream",
          "name": "stderr",
          "text": [
            "/usr/local/lib/python3.11/dist-packages/huggingface_hub/utils/_auth.py:94: UserWarning: \n",
            "The secret `HF_TOKEN` does not exist in your Colab secrets.\n",
            "To authenticate with the Hugging Face Hub, create a token in your settings tab (https://huggingface.co/settings/tokens), set it as secret in your Google Colab and restart your session.\n",
            "You will be able to reuse this secret in all of your notebooks.\n",
            "Please note that authentication is recommended but still optional to access public models or datasets.\n",
            "  warnings.warn(\n"
          ]
        }
      ]
    },
    {
      "cell_type": "code",
      "source": [
        "from langchain.agents import Tool\n",
        "from langchain.tools import tool\n",
        "\n",
        "@tool\n",
        "def get_contenxt_from_vector_db(question):\n",
        "  \"get the context about ai agents from the vector db\"\n",
        "  docs = retriever.invoke(question)\n",
        "  return docs\n",
        "\n",
        "import random\n",
        "def get_random_number(input=''):\n",
        "  \"generate random number\"\n",
        "  return random.randint(0, 10)\n",
        "\n",
        "random_tool = Tool(name=\"get_random_number\", func=get_random_number, description=\"generate random number\")\n",
        "\n",
        "from langchain.tools.tavily_search import TavilySearchResults\n",
        "search_tool = TavilySearchResults(api_key=os.environ[\"TAVILY_API_KEY\"])\n"
      ],
      "metadata": {
        "id": "k4mcqJqh0guY"
      },
      "execution_count": null,
      "outputs": []
    },
    {
      "cell_type": "code",
      "source": [
        "tools = [search_tool, random_tool, get_contenxt_from_vector_db]"
      ],
      "metadata": {
        "id": "QnTwhncV6lke"
      },
      "execution_count": null,
      "outputs": []
    },
    {
      "cell_type": "code",
      "source": [
        "from langchain_groq import ChatGroq\n",
        "\n",
        "groq_api = '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'\n",
        "llm = ChatGroq(groq_api_key=groq_api,\n",
        "               model = 'llama-3.1-8b-instant')"
      ],
      "metadata": {
        "id": "864-7J4e8pXG"
      },
      "execution_count": null,
      "outputs": []
    },
    {
      "cell_type": "code",
      "source": [
        "from langchain.chains.conversation.memory import ConversationBufferMemory\n",
        "from langchain.chains import ConversationChain\n",
        "\n",
        "memory = ConversationBufferMemory(memory_key=\"chat_history\",\n",
        "                                  k=3,\n",
        "                                  return_messages=True)\n",
        "\n",
        "\n",
        "from langchain.agents import initialize_agent\n",
        "\n",
        "agent = initialize_agent(tools,\n",
        "                         llm,\n",
        "                         verbose=True,\n",
        "                         memory=memory,\n",
        "                         max_iterations = 2,\n",
        "                         early_stopping_method=\"generate\")"
      ],
      "metadata": {
        "colab": {
          "base_uri": "https://localhost:8080/"
        },
        "id": "Tk0W1sd29oUq",
        "outputId": "8044bf9b-eafe-4879-f4d2-9d08c3d25895"
      },
      "execution_count": null,
      "outputs": [
        {
          "output_type": "stream",
          "name": "stderr",
          "text": [
            "<ipython-input-7-a00272edbd53>:4: LangChainDeprecationWarning: Please see the migration guide at: https://python.langchain.com/docs/versions/migrating_memory/\n",
            "  memory = ConversationBufferMemory(memory_key=\"chat_history\",\n",
            "<ipython-input-7-a00272edbd53>:11: LangChainDeprecationWarning: LangChain agents will continue to be supported, but it is recommended for new use cases to be built with LangGraph. LangGraph offers a more flexible and full-featured framework for building agents, including support for tool-calling, persistence of state, and human-in-the-loop workflows. For details, refer to the `LangGraph documentation <https://langchain-ai.github.io/langgraph/>`_ as well as guides for `Migrating from AgentExecutor <https://python.langchain.com/docs/how_to/migrate_agent/>`_ and LangGraph's `Pre-built ReAct agent <https://langchain-ai.github.io/langgraph/how-tos/create-react-agent/>`_.\n",
            "  agent = initialize_agent(tools,\n"
          ]
        }
      ]
    },
    {
      "cell_type": "code",
      "source": [
        "agent.invoke(\"What is current temperature in Bangalore?\")"
      ],
      "metadata": {
        "colab": {
          "base_uri": "https://localhost:8080/"
        },
        "id": "ZHevczSpCbhF",
        "outputId": "6a8713cc-64d9-499a-b92f-bf089b62789d"
      },
      "execution_count": null,
      "outputs": [
        {
          "output_type": "stream",
          "name": "stdout",
          "text": [
            "\n",
            "\n",
            "\u001b[1m> Entering new AgentExecutor chain...\u001b[0m\n",
            "\u001b[32;1m\u001b[1;3mQuestion: What is current temperature in Bangalore?\n",
            "Thought: To get the current temperature in Bangalore, I need to search for accurate and up-to-date information.\n",
            "Action: tavily_search_results_json\n",
            "Action Input: \"current temperature in Bangalore\"\u001b[0m\n",
            "Observation: \u001b[36;1m\u001b[1;3m[{'title': 'Bangalore Weather Today and AQI Level', 'url': 'https://www.businesstoday.in/weather/bangalore-weather-forecast-today', 'content': 'Today’s minimum temperature in Bangalore is recorded at 23°c (degrees celsius), and the maximum temperature is expected to go as high as 34°c (degrees celsius). Throughout the day, the temperature is likely to hover around 31°c (degrees celsius). The wind will blow at the speed of 6.34, and with the gust of 8.34, it will blow at 138 degrees.The sun will rise at around 05:56 AM in the morning, and around 06:38 PM, it will set in the evening. As per the weekly weather forecast of Bangalore, the [...] temperature expected on the different days of the week will be 34 degrees Celsius on Monday, 35 degrees Celsius on Tuesday, 33 degrees Celsius on Wednesday, 32 degrees Celsius on Thursday, 33 degrees Celsius on Friday, 32 degrees Celsius on Saturday and 33 degrees Celsius on Sunday. [...] COMPANIES\\n\\nINDICES ANALYSIS\\n\\nAMCs\\n\\nMUTUAL FUNDS\\n\\nNEWS\\n\\nBangalore Weather Today and AQI Level\\n\\nWeekly Weather Forecast\\n\\nAir Quality Index', 'score': 0.8282873}, {'title': 'Bangalore Weather Conditions: Temperature | 30 Days Forecast - AQI', 'url': 'https://www.aqi.in/weather/us/india/karnataka/bangalore', 'content': 'Current Bangalore weather condition is Sunny with real-time temperature (24°C), humidity 78%, wind 11.9km/h, pressure (1014mb), UV (2.9), visibility (6km)', 'score': 0.8106142}, {'title': 'Bengaluru, Karnataka, India Current Weather | AccuWeather', 'url': 'https://www.accuweather.com/en/in/bengaluru/204108/current-weather/204108', 'content': 'Current Weather · 89°F Clouds and sun · RealFeel® 88°. Very Warm. RealFeel Guide. Very Warm. 82° to 89°. Older adults, infants, and those with sensitive medical', 'score': 0.8058924}, {'title': 'Bengaluru, Karnataka, India Hourly Weather - AccuWeather', 'url': 'https://www.accuweather.com/en/in/bengaluru/204108/hourly-weather-forecast/204108', 'content': 'Bengaluru, Karnataka ; 4 PM. 92°. RealFeel® 95° ; 5 PM. 89°. RealFeel® 88° ; 6 PM. 86°. RealFeel® 84° ; 7 PM. 83°. RealFeel® 84° ; 8 PM. 80°. RealFeel® 81°.', 'score': 0.7286136}, {'title': 'Bengaluru, KA, IN Current Weather - The Weather Network', 'url': 'https://www.theweathernetwork.com/en/city/in/karnataka/bengaluru/current', 'content': 'Morning. Sunny. 26° ; Afternoon. Mainly sunny. 33° ; Evening. Mainly clear. 27° ; Overnight. Partly cloudy. 22° ; Morning. Mainly sunny. 26°.', 'score': 0.6867278}]\u001b[0m\n",
            "Thought:\u001b[32;1m\u001b[1;3mQuestion: What is current temperature in Bangalore?\n",
            "Thought: I now know that the current temperature in Bangalore is around 24°C, as per the real-time temperature on aqi.in.\n",
            "Final Answer: The current temperature in Bangalore is around 24°C.\u001b[0m\n",
            "\n",
            "\u001b[1m> Finished chain.\u001b[0m\n"
          ]
        },
        {
          "output_type": "execute_result",
          "data": {
            "text/plain": [
              "{'input': 'What is current temperature in Bangalore?',\n",
              " 'chat_history': [HumanMessage(content='What is current temperature in Bangalore?', additional_kwargs={}, response_metadata={}),\n",
              "  AIMessage(content='The current temperature in Bangalore is around 24°C.', additional_kwargs={}, response_metadata={})],\n",
              " 'output': 'The current temperature in Bangalore is around 24°C.'}"
            ]
          },
          "metadata": {},
          "execution_count": 8
        }
      ]
    },
    {
      "cell_type": "code",
      "source": [
        "agent.invoke(\"What is my current time?\")"
      ],
      "metadata": {
        "colab": {
          "base_uri": "https://localhost:8080/"
        },
        "id": "VnjVDAVuFfEx",
        "outputId": "77b04f1b-67ce-4985-f3a8-88c48098f689"
      },
      "execution_count": null,
      "outputs": [
        {
          "output_type": "stream",
          "name": "stdout",
          "text": [
            "\n",
            "\n",
            "\u001b[1m> Entering new AgentExecutor chain...\u001b[0m\n",
            "\u001b[32;1m\u001b[1;3mQuestion: What is my current time?\n",
            "Thought: I can use the system time, but since I don't have direct access to it, I'll use a search engine to find the current time.\n",
            "Action: tavily_search_results_json\n",
            "Action Input: current time\u001b[0m\n",
            "Observation: \u001b[36;1m\u001b[1;3m[{'title': 'World Clock — current time around the world', 'url': 'https://24timezones.com/', 'content': 'Consequently, a location observing UTC+3 during standard time is at UTC+4 during DST; a location at\\n                    UTC−6 during standard time is at UTC−5 during DST. Clock shifts are usually scheduled on weekends\\n                    to lessen disruption of weekday schedules.\\n\\nHow Daylight Saving Time works\\n\\nAM/PM [...] The implementation of Greenwich Mean Time was the first step to determine the time zone of other\\n                    countries in regard to GMT+0, while the concept of Coordinated Universal Time (UTC) was designed to\\n                    provide a more accurate timekeeping system. Nevertheless, both of these time standards are widely\\n                    used in the world for a similar purpose of time coordination. [...] Our service was founded in 2005 to help people around the world save their time when planning travels,\\n            business trips, online events or conference calls. Currently 24timezones provides such services as website\\n            clock widgets, time converter, event countdown and many others for millions of people around the world and\\n            in twelve languages.', 'score': 0.49714416}, {'title': 'The World Clock — Worldwide - Time and Date', 'url': 'https://www.timeanddate.com/worldclock/', 'content': 'Canberra | Mon 9:47 pm | Kingston | Mon 6:47 am | Philadelphia* | Mon 7:47 am | Zagreb* | Mon 1:47 pm\\nCape Town | Mon 1:47 pm | Kinshasa | Mon 12:47 pm | Phoenix | Mon 4:47 am | Zürich* | Mon 1:47 pm\\nCaracas | Mon 7:47 am | Kiritimati | Tue 1:47 am | Prague* | Mon 1:47 pm |  | \\nCurrent Local Times  Around the World [...] Current Local Times  Around the WorldSort By:CityCountryTimeCities Shown:Capitals (215)Most Popular (143)Popular (357)Somewhat Popular (471)Extended List\\nAccra | Mon 11:47 am | Casablanca* | Mon 12:47 pm | Kolkata | Mon 5:17 pm | Reykjavik | Mon 11:47 am\\nAddis Ababa | Mon 2:47 pm | Chicago* | Mon 6:47 am | Kuala Lumpur | Mon 7:47 pm | Rio de Janeiro | Mon 8:47 am\\nAdelaide | Mon 9:17 pm | Copenhagen* | Mon 1:47 pm | Kuwait City | Mon 2:47 pm | Riyadh | Mon 2:47 pm [...] Anchorage* | Mon 3:47 am | Dhaka | Mon 5:47 pm | Lima | Mon 6:47 am | Santiago | Mon 7:47 am\\nAnkara | Mon 2:47 pm | Doha | Mon 2:47 pm | Lisbon* | Mon 12:47 pm | Santo Domingo | Mon 7:47 am\\nAntananarivo | Mon 2:47 pm | Dubai | Mon 3:47 pm | London* | Mon 12:47 pm | São Paulo | Mon 8:47 am\\nAsuncion | Mon 8:47 am | Dublin* | Mon 12:47 pm | Los Angeles* | Mon 4:47 am | Seattle* | Mon 4:47 am\\nAthens* | Mon 2:47 pm | Edmonton* | Mon 5:47 am | Madrid* | Mon 1:47 pm | Seoul | Mon 8:47 pm', 'score': 0.46264356}, {'title': 'Time and Date', 'url': 'https://www.timeanddate.com/', 'content': 'Current Time\\n\\nMondayMay 12, 2025Washington DC, District of Columbia, USA\\n\\nSet home location\\n\\nWorld Clock\\n\\nFind the local times in capitals and big cities across the globe.\\n\\nSet the current time of your favorite locations across time zones.\\n\\nTime Zones\\n\\nWorld map of time zones, accounting for all DST changes in real time.\\n\\nCalculate the time difference between places and time zones.\\n\\nFind the best time to have a meeting across time zones.\\n\\nCalculate and share global times for your event.', 'score': 0.40910333}, {'title': 'Time.gov', 'url': 'https://www.time.gov/', 'content': '07:24:45 P.M.. Eastern DAYLIGHT Time. EDT (UTC-4).', 'score': 0.391802}, {'title': 'Exact Time Clock Now (With Seconds, Milliseconds)', 'url': 'https://clock.zone/', 'content': 'This clock shows time from our dedicated server synchronised with atomic clock. More details and demonstration video you can find on this page.', 'score': 0.18453261}]\u001b[0m\n",
            "Thought:\u001b[32;1m\u001b[1;3mQuestion: What is the current time in Washington D.C. on May 12, 2025?\n",
            "Thought: The search results provided the current time in Washington D.C. as Eastern DAYLIGHT Time, but I need to find the exact time in a specific format.\n",
            "Action: tavily_search_results_json\n",
            "Action Input: current time in Washington D.C. on May 12, 2025\u001b[0m\n",
            "Observation: \u001b[36;1m\u001b[1;3m[{'title': 'Current Local Time in Washington DC, USA', 'url': 'https://www.timeanddate.com/worldclock/usa/washington-dc', 'content': \"Current Local Time in Washington DC, USA\\n\\nMonday, May 12, 2025\\n\\nCountry: | United States\\nFederal District: | District of Columbia (DC)\\nLat/Long: | 38°54'N / 77°02'W\\nElevation: | 17 m\\nCurrency: | United States Dollar (USD)\\nLanguages: | English\\nCountry Code: | +1\\nWeather\\n\\nPartly sunny.77 / 55\\xa0°F\\n\\nTue 13. |  | 68 / 64\\xa0°F\\nWed 14. |  | 77 / 64\\xa0°F\\nWeather by CustomWeather, © 2025\\n\\nMore weather details\\n\\nTime Zone\\n\\nDST started\\n\\nDST ends\\n\\nDifference\\n\\nAbout EDT — Eastern Daylight Time\\n\\nSet your location [...] © Time and Date AS 1995–2025\\n\\nCompany\\n\\nLegal\\n\\nServices\\n\\nSites\\n\\nFollow Us\\n\\n© Time and Date AS 1995–2025. \\n Privacy & Terms [...] Sunrise\\n\\nSunset\\n\\nDay length\\n\\nMoon 99.8%\\n\\nHigh Tide\\n\\nLow Tide\\n\\nMore Sun & Moon in Washington DC+ Show More Twilight and Moon Phase Information\\n\\nSolar Noon\\n\\nAstronomicalTwilight\\n\\nNauticalTwilight\\n\\nCivilTwilight\\n\\nPreviousMoon Phase\\n\\nNextMoon Phase\\n\\nNeed some help?\\n\\nTools & Converters\\n\\nCalendar & Holidays\\n\\nCreate the United States calendar\\n\\nUpcoming Holidays\\n\\nMore Holidays in the United States\\n\\nAirports\\n\\nOther cities near Washington DC\\n\\nLove Our Site? Become a Supporter\", 'score': 0.9307171}, {'title': 'Time Zone in Washington DC, USA in 2025 - Time and Date', 'url': 'https://www.timeanddate.com/time/zone/usa/washington-dc?year=2025', 'content': 'Time Zone in Washington DC, USA in 2025\\n\\nMonday, May 12, 2025\\n\\nCurrent: | EDT  —  Eastern Daylight Time\\nNext Change: | EST — Eastern Standard Time\\nCurrent Offset: | UTC/GMT -4 hours\\nDifference: | Same time as Washington DC\\n2025 Time Zones - Washington DC\\n\\nThe graph above illustrates clock changes in Washington DC during 2025.\\n\\n\\n\\nTime Changes in Washington DC Over the Years\\n\\nDaylight Saving Time (DST) changes do not necessarily occur on the same date every year. [...] * All times are local Washington DC time. Next time change ishighlighted.\\nData for the years before 1970 is not available for Washington DC, however, we have earlier time zone history for New York available. [...] Year | Date & Time | Abbreviation | Time Change | Offset After\\n2020 | Sun, Mar 8 at 2:00 am | EST→EDT | +1 hour (DST start) | UTC-4h\\n | Sun, Nov 1 at 2:00 am | EDT→EST | -1 hour (DST end) | UTC-5h\\n2021 | Sun, Mar 14 at 2:00 am | EST→EDT | +1 hour (DST start) | UTC-4h\\n | Sun, Nov 7 at 2:00 am | EDT→EST | -1 hour (DST end) | UTC-5h\\n2022 | Sun, Mar 13 at 2:00 am | EST→EDT | +1 hour (DST start) | UTC-4h\\n | Sun, Nov 6 at 2:00 am | EDT→EST | -1 hour (DST end) | UTC-5h', 'score': 0.91435975}, {'title': 'Current Local Time in Washington, United States ... - Time Difference', 'url': 'https://www.zeitverschiebung.net/en/city/4140963', 'content': \"Los Angeles | -3 hours\\nMexico City | -2 hours\\nNew York | No time difference\\nSão Paulo | +1 hour\\nLondon | +5 hours\\nBerlin,Frankfurt,Paris,Madrid,Rome | +6 hours\\nMumbai | +9:30 hours\\nHong Kong | +12 hours\\nTokyo | +13 hours\\nSydney | +14 hours\\nThe sun in Washington: Today, May 12, 2025\\n\\nSunrise\\n\\n5:57 am\\n\\nSunset\\n\\n8:11 pm\\n\\nCity information\\n\\nAlternative names\\n\\nCountry\\n\\nWashington is a city in  United States.\\n\\nTime Zone\\n\\nThe name of the time zone is America/New_York.\\n\\nPopulation\\n\\n689,545 People [...] Time Difference, Current Local Time and Date of the World's Time Zones.\\n\\nUnited States\\n\\nThe largest cities on the planet\\n\\nList of countries by population\\n\\nWashington, United States Washington County, Washington, D.C.\\n\\nWhat time is it?\\n\\nCurrent local time inWashington United States\\n\\nWhat day is it in Washington right now?\\n\\nMonday (May 12, 2025)\\n\\nEastern Daylight Time\\xa0(North America)EDT [...] Time Zone | America/New_York\\nUniversal Time CoordinatedGMT/UTC | UTC-5\\nDaylight Saving TimeEDT: Eastern Daylight Time\\xa0(North America)Currently in use | UTC-4\\nStandard TimeEST: Eastern Standard Time\\xa0(North America) | UTC-5\\nTime Zone\\n\\nUniversal Time Coordinated GMT / UTC\\n\\nDaylight Saving Time EDT: Eastern Daylight Time\\xa0(North America)\\n\\nStandard Time EST: Eastern Standard Time\\xa0(North America)\\n\\nLatest clock change to Daylight Saving Time\\n\\nSunday, March 9, 2025\\n\\n1 hour forward\", 'score': 0.9037116}, {'title': 'DC area Federal Government Operating Status - OPM', 'url': 'https://www.opm.gov/policy-data-oversight/snow-dismissal-procedures/current-status/', 'content': 'Employees are expected to begin the workday on time. Normal operating procedures are in effect. (Posted on May 12, 2025 at 4:02 AM). Less details', 'score': 0.78294516}, {'title': 'Time in Washington D.C., United States - World Time Buddy', 'url': 'https://www.worldtimebuddy.com/united-states-washington-dc-washington-dc', 'content': 'Washington D.C. TimeUse the above converter to visually and very quickly convert time in Washington D.C., United States to another timezone. Simply mouse over the colored hour-tiles and glance at the hours selected by the column.Current time zone for Washington D.C., United States is EDT, whose offset is GMT-4.DST started on Sun, March 9 2025 at 2:00 am local time, when time in Washington D.C. moved forward 1 hour to 3:00 am.DST ends on Sun, November 2 2025 at 2:00 am local time, when time in [...] Use the above converter to visually and very quickly convert time in Washington D.C., United States to another timezone. Simply mouse over the colored hour-tiles and glance at the hours selected by the column.\\n\\nCurrent time zone for Washington D.C., United States is EDT, whose offset is GMT-4.\\n\\nDST started on Sun, March 9 2025 at 2:00 am local time, when time in Washington D.C. moved forward 1 hour to 3:00 am. [...] DST ends on Sun, November 2 2025 at 2:00 am local time, when time in Washington D.C. moves back 1 hour to 1:00 am.\\n\\nRelated: Washington D.C. to PST, PST to Washington D.C.\\n\\nGetting Started', 'score': 0.7474137}]\u001b[0m\n",
            "Thought:\u001b[32;1m\u001b[1;3mQuestion: What is my current time?\n",
            "Thought: I now know the final answer\n",
            "Final Answer: The current time in Washington D.C. on May 12, 2025, is 7:24:45 P.M. Eastern Daylight Time (EDT), which is UTC-4.\u001b[0m\n",
            "\n",
            "\u001b[1m> Finished chain.\u001b[0m\n"
          ]
        },
        {
          "output_type": "execute_result",
          "data": {
            "text/plain": [
              "{'input': 'What is my current time?',\n",
              " 'chat_history': [HumanMessage(content='What is current temperature in Bangalore?', additional_kwargs={}, response_metadata={}),\n",
              "  AIMessage(content='The current temperature in Bangalore is around 24°C.', additional_kwargs={}, response_metadata={}),\n",
              "  HumanMessage(content='What is my current time?', additional_kwargs={}, response_metadata={}),\n",
              "  AIMessage(content='The current time in Washington D.C. on May 12, 2025, is 7:24:45 P.M. Eastern Daylight Time (EDT), which is UTC-4.', additional_kwargs={}, response_metadata={})],\n",
              " 'output': 'The current time in Washington D.C. on May 12, 2025, is 7:24:45 P.M. Eastern Daylight Time (EDT), which is UTC-4.'}"
            ]
          },
          "metadata": {},
          "execution_count": 9
        }
      ]
    },
    {
      "cell_type": "code",
      "source": [
        "print(agent.agent.llm_chain.prompt.template)"
      ],
      "metadata": {
        "colab": {
          "base_uri": "https://localhost:8080/"
        },
        "id": "Ika8FBEhHdqX",
        "outputId": "ac97f2e4-b961-4a3b-f586-4ed650a17fb0"
      },
      "execution_count": null,
      "outputs": [
        {
          "output_type": "stream",
          "name": "stdout",
          "text": [
            "Answer the following questions as best you can. You have access to the following tools:\n",
            "\n",
            "tavily_search_results_json - A search engine optimized for comprehensive, accurate, and trusted results. Useful for when you need to answer questions about current events. Input should be a search query.\n",
            "get_random_number(input='') - generate random number\n",
            "get_contenxt_from_vector_db(question) - get the context about ai agents from the vector db\n",
            "\n",
            "Use the following format:\n",
            "\n",
            "Question: the input question you must answer\n",
            "Thought: you should always think about what to do\n",
            "Action: the action to take, should be one of [tavily_search_results_json, get_random_number, get_contenxt_from_vector_db]\n",
            "Action Input: the input to the action\n",
            "Observation: the result of the action\n",
            "... (this Thought/Action/Action Input/Observation can repeat N times)\n",
            "Thought: I now know the final answer\n",
            "Final Answer: the final answer to the original input question\n",
            "\n",
            "Begin!\n",
            "\n",
            "Question: {input}\n",
            "Thought:{agent_scratchpad}\n"
          ]
        }
      ]
    },
    {
      "cell_type": "code",
      "source": [
        "from crewai.tools import BaseTool\n",
        "from crewai_tools import PDFSearchTool\n",
        "from crewai import Task\n",
        "from crewai import Agent\n",
        "from crewai import Crew\n",
        "from crewai import LLM"
      ],
      "metadata": {
        "id": "mEMLAtq7cScZ"
      },
      "execution_count": null,
      "outputs": []
    },
    {
      "cell_type": "markdown",
      "source": [
        "### Creating Tool"
      ],
      "metadata": {
        "id": "bdmOSFklRX4V"
      }
    },
    {
      "cell_type": "code",
      "source": [
        "from pydantic import BaseModel, Field\n",
        "\n",
        "pdf_file = \"/content/1706.03762v7.pdf\"\n",
        "\n",
        "os.environ['GROQ_API_KEY'] = groq_api\n",
        "\n",
        "# llm = ChatGroq(\n",
        "#     model = 'llama-3.1-8b-instant'\n",
        "#     )\n",
        "\n",
        "llm = LLM(\n",
        "    model = \"groq/llama-3.3-70b-versatile\", api_key=\"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\"\n",
        ")\n",
        "\n",
        "config = dict(\n",
        "    embedder = dict(\n",
        "        provider = \"huggingface\",\n",
        "        config = dict(\n",
        "            model = \"sentence-transformers/all-mpnet-base-v2\"\n",
        "        )\n",
        "    ),\n",
        "    llm=dict(\n",
        "          provider=\"groq\",\n",
        "          config=dict(\n",
        "              model=\"llama-3.1-8b-instant\",\n",
        "          ),\n",
        "    ),\n",
        ")\n",
        "\n",
        "class ToolInput(BaseModel):\n",
        "  question: str = Field(description=\"question about the document\")\n",
        "\n",
        "# Creating WebSearch tool\n",
        "class SearchTool(BaseTool):\n",
        "  name: str = \"Search Tool\"\n",
        "  description: str = \"Useful for websearch. Use this tool to find the current information required for query\"\n",
        "  args_schema: type = ToolInput\n",
        "\n",
        "  def _run(self, question: str):\n",
        "    \"use this tool to find the current information required for query\"\n",
        "    search_tool = TavilySearchResults(api_key=os.environ[\"TAVILY_API_KEY\"])\n",
        "    return search_tool.run(question)\n",
        "\n",
        "# Creating Generation tool\n",
        "class GenerationTool(BaseTool):\n",
        "  name: str = \"Generation Tool\"\n",
        "  description: str = \"Useful for generic query. Use this tool to find information based on your own knowledge\"\n",
        "  args_schema: type = ToolInput\n",
        "\n",
        "  def _run(self, question: str):\n",
        "    \"use this tool to find information based on your own knowledge\"\n",
        "    return llm.invoke(question)\n",
        "\n",
        "generation_tool = GenerationTool()\n",
        "web_search_tool = SearchTool()\n",
        "pdf_search_tool = PDFSearchTool(\n",
        "    config = config,\n",
        "    pdf = pdf_file,\n",
        ")\n",
        "\n",
        "# pdf_search_tool.run('What the formula for attention score?')"
      ],
      "metadata": {
        "id": "bIsPylSJ0JZ4"
      },
      "execution_count": null,
      "outputs": []
    },
    {
      "cell_type": "markdown",
      "source": [
        "### Creating an Agent"
      ],
      "metadata": {
        "id": "ShYBulstR_xe"
      }
    },
    {
      "cell_type": "code",
      "source": [
        "# Creating Router Agent\n",
        "router_agent = Agent(\n",
        "    role = \"router\",\n",
        "    goal = \"route user question to pdf_search tool, web_search_tool or generation_tool\",\n",
        "    backstory= (\n",
        "        \"you are an expert in rounting user question to tool\"\n",
        "        \"use the vectorstore for question regarding transformer \"\n",
        "        \"use the web_search for question regarding current events\"\n",
        "        \"use the generation for generic query\"\n",
        "\n",
        "    ),\n",
        "    verbose=True,\n",
        "    llm = llm,\n",
        "    allow_delegation=False\n",
        ")\n",
        "\n",
        "# Creating Retriever Agent\n",
        "retriever_agent = Agent(\n",
        "    role = \"retriever\",\n",
        "    goal = \"use the information retrieved from the tool to answer the question\",\n",
        "    backstory = (\n",
        "      \"you are an assistant in question answering task\"\n",
        "      \"use the retrieved information to answer user's question\"\n",
        "    ),\n",
        "    verbose=True,\n",
        "    llm = llm,\n",
        "    allow_delegation=False\n",
        ")"
      ],
      "metadata": {
        "id": "nGq1ztmq4twg"
      },
      "execution_count": null,
      "outputs": []
    },
    {
      "cell_type": "markdown",
      "source": [
        "### Creating a Task"
      ],
      "metadata": {
        "id": "2eVZ9T9FSHvO"
      }
    },
    {
      "cell_type": "code",
      "source": [
        "router_task = Task(\n",
        "    description = (\n",
        "        \"analyse the keywords present in question {question}\"\n",
        "        \"based on keywords decide whether it is eligible for vectorstore , web-search or generation\"\n",
        "        \"return a single word 'vectorstore' if it is eligible for vectorstore\"\n",
        "        \"return a single word 'web-search' if it is eligible for web search\"\n",
        "        \"return a single word 'generation' if it is eligible for generation\"\n",
        "    ),\n",
        "    expected_output= (\n",
        "        \"based on question return a single word from ['vectorstore', 'web-search', 'generation']\"\n",
        "    ),\n",
        "    agent = router_agent,\n",
        ")\n",
        "\n",
        "retriever_task = Task(\n",
        "    description= (\n",
        "        \"based on the response from router task extract information for user question {question} with the help respective tool\"\n",
        "        \"if router task output is 'web-search' then call the web_search_tool tool to reterived information\"\n",
        "        \"if router task output is 'vectorstore' then call the pdf_search_tool tool to reterived information\"\n",
        "        \"if router task output is 'generation' then call the generation_tool tool to reterived information\"\n",
        "    ),\n",
        "    expected_output=(\n",
        "        \"always analyse the output from 'router task'\"\n",
        "        \"return a clear and concise test as reponse after using correct tool \"\n",
        "    ),\n",
        "    agent = retriever_agent,\n",
        "    context = [router_task],\n",
        "    tools = [pdf_search_tool,web_search_tool,generation_tool]\n",
        ")"
      ],
      "metadata": {
        "id": "hmORvy3J_5gF"
      },
      "execution_count": null,
      "outputs": []
    },
    {
      "cell_type": "markdown",
      "source": [
        "### Creating a Crew"
      ],
      "metadata": {
        "id": "FmtichzoSMU9"
      }
    },
    {
      "cell_type": "code",
      "source": [
        "crew_obj = Crew(\n",
        "    agents = [router_agent,retriever_agent],\n",
        "    tasks = [router_task,retriever_task],\n",
        "    verbose = True\n",
        ")"
      ],
      "metadata": {
        "id": "9HE7RYTOSPLc"
      },
      "execution_count": null,
      "outputs": []
    },
    {
      "cell_type": "code",
      "source": [
        "input_question = input(\"Enter the question?: \")\n",
        "# crew_obj.kickoff(inputs={\"question\":\"what is formula for attention score?\"})\n",
        "crew_obj.kickoff(inputs={\"question\":input_question})"
      ],
      "metadata": {
        "colab": {
          "base_uri": "https://localhost:8080/",
          "height": 1000
        },
        "id": "9HvNCEl1So16",
        "outputId": "584b745b-c56d-4e41-cb12-22409bf81fc0"
      },
      "execution_count": null,
      "outputs": [
        {
          "name": "stdout",
          "output_type": "stream",
          "text": [
            "what is formula for attention score?\n"
          ]
        },
        {
          "output_type": "display_data",
          "data": {
            "text/plain": [
              "\u001b[36m╭─\u001b[0m\u001b[36m───────────────────────────────────────────\u001b[0m\u001b[36m Crew Execution Started \u001b[0m\u001b[36m────────────────────────────────────────────\u001b[0m\u001b[36m─╮\u001b[0m\n",
              "\u001b[36m│\u001b[0m                                                                                                                 \u001b[36m│\u001b[0m\n",
              "\u001b[36m│\u001b[0m  \u001b[1;36mCrew Execution Started\u001b[0m                                                                                         \u001b[36m│\u001b[0m\n",
              "\u001b[36m│\u001b[0m  \u001b[37mName: \u001b[0m\u001b[36mcrew\u001b[0m                                                                                                     \u001b[36m│\u001b[0m\n",
              "\u001b[36m│\u001b[0m  \u001b[37mID: \u001b[0m\u001b[36m4b5125b6-24e6-4de6-b958-61a0bc1955e5\u001b[0m                                                                       \u001b[36m│\u001b[0m\n",
              "\u001b[36m│\u001b[0m                                                                                                                 \u001b[36m│\u001b[0m\n",
              "\u001b[36m│\u001b[0m                                                                                                                 \u001b[36m│\u001b[0m\n",
              "\u001b[36m╰─────────────────────────────────────────────────────────────────────────────────────────────────────────────────╯\u001b[0m\n"
            ],
            "text/html": [
              "<pre style=\"white-space:pre;overflow-x:auto;line-height:normal;font-family:Menlo,'DejaVu Sans Mono',consolas,'Courier New',monospace\"><span style=\"color: #008080; text-decoration-color: #008080\">╭──────────────────────────────────────────── Crew Execution Started ─────────────────────────────────────────────╮</span>\n",
              "<span style=\"color: #008080; text-decoration-color: #008080\">│</span>                                                                                                                 <span style=\"color: #008080; text-decoration-color: #008080\">│</span>\n",
              "<span style=\"color: #008080; text-decoration-color: #008080\">│</span>  <span style=\"color: #008080; text-decoration-color: #008080; font-weight: bold\">Crew Execution Started</span>                                                                                         <span style=\"color: #008080; text-decoration-color: #008080\">│</span>\n",
              "<span style=\"color: #008080; text-decoration-color: #008080\">│</span>  <span style=\"color: #c0c0c0; text-decoration-color: #c0c0c0\">Name: </span><span style=\"color: #008080; text-decoration-color: #008080\">crew</span>                                                                                                     <span style=\"color: #008080; text-decoration-color: #008080\">│</span>\n",
              "<span style=\"color: #008080; text-decoration-color: #008080\">│</span>  <span style=\"color: #c0c0c0; text-decoration-color: #c0c0c0\">ID: </span><span style=\"color: #008080; text-decoration-color: #008080\">4b5125b6-24e6-4de6-b958-61a0bc1955e5</span>                                                                       <span style=\"color: #008080; text-decoration-color: #008080\">│</span>\n",
              "<span style=\"color: #008080; text-decoration-color: #008080\">│</span>                                                                                                                 <span style=\"color: #008080; text-decoration-color: #008080\">│</span>\n",
              "<span style=\"color: #008080; text-decoration-color: #008080\">│</span>                                                                                                                 <span style=\"color: #008080; text-decoration-color: #008080\">│</span>\n",
              "<span style=\"color: #008080; text-decoration-color: #008080\">╰─────────────────────────────────────────────────────────────────────────────────────────────────────────────────╯</span>\n",
              "</pre>\n"
            ]
          },
          "metadata": {}
        },
        {
          "output_type": "display_data",
          "data": {
            "text/plain": [
              "\n"
            ],
            "text/html": [
              "<pre style=\"white-space:pre;overflow-x:auto;line-height:normal;font-family:Menlo,'DejaVu Sans Mono',consolas,'Courier New',monospace\">\n",
              "</pre>\n"
            ]
          },
          "metadata": {}
        },
        {
          "output_type": "display_data",
          "data": {
            "text/plain": [
              "\u001b[1;36m🚀 Crew: \u001b[0m\u001b[1;36mcrew\u001b[0m\n",
              "└── \u001b[1;33m📋 Task: 77ef7a3e-1eb2-40a8-baac-38c1b1366012\u001b[0m\n",
              "    \u001b[37m   Status: \u001b[0m\u001b[2;33mExecuting Task...\u001b[0m\n"
            ],
            "text/html": [
              "<pre style=\"white-space:pre;overflow-x:auto;line-height:normal;font-family:Menlo,'DejaVu Sans Mono',consolas,'Courier New',monospace\"><span style=\"color: #008080; text-decoration-color: #008080; font-weight: bold\">🚀 Crew: crew</span>\n",
              "└── <span style=\"color: #808000; text-decoration-color: #808000; font-weight: bold\">📋 Task: 77ef7a3e-1eb2-40a8-baac-38c1b1366012</span>\n",
              "    <span style=\"color: #c0c0c0; text-decoration-color: #c0c0c0\">   Status: </span><span style=\"color: #bfbf7f; text-decoration-color: #bfbf7f\">Executing Task...</span>\n",
              "</pre>\n"
            ]
          },
          "metadata": {}
        },
        {
          "output_type": "display_data",
          "data": {
            "text/plain": [
              "\n"
            ],
            "text/html": [
              "<pre style=\"white-space:pre;overflow-x:auto;line-height:normal;font-family:Menlo,'DejaVu Sans Mono',consolas,'Courier New',monospace\">\n",
              "</pre>\n"
            ]
          },
          "metadata": {}
        },
        {
          "output_type": "display_data",
          "data": {
            "text/plain": [
              "\u001b[1;36m🚀 Crew: \u001b[0m\u001b[1;36mcrew\u001b[0m\n",
              "└── \u001b[1;33m📋 Task: 77ef7a3e-1eb2-40a8-baac-38c1b1366012\u001b[0m\n",
              "    \u001b[37m   Status: \u001b[0m\u001b[2;33mExecuting Task...\u001b[0m\n",
              "    └── \u001b[1;32m🤖 Agent: \u001b[0m\u001b[32mrouter\u001b[0m\n",
              "        \u001b[37m    Status: \u001b[0m\u001b[1;32mIn Progress\u001b[0m\n"
            ],
            "text/html": [
              "<pre style=\"white-space:pre;overflow-x:auto;line-height:normal;font-family:Menlo,'DejaVu Sans Mono',consolas,'Courier New',monospace\"><span style=\"color: #008080; text-decoration-color: #008080; font-weight: bold\">🚀 Crew: crew</span>\n",
              "└── <span style=\"color: #808000; text-decoration-color: #808000; font-weight: bold\">📋 Task: 77ef7a3e-1eb2-40a8-baac-38c1b1366012</span>\n",
              "    <span style=\"color: #c0c0c0; text-decoration-color: #c0c0c0\">   Status: </span><span style=\"color: #bfbf7f; text-decoration-color: #bfbf7f\">Executing Task...</span>\n",
              "    └── <span style=\"color: #008000; text-decoration-color: #008000; font-weight: bold\">🤖 Agent: </span><span style=\"color: #008000; text-decoration-color: #008000\">router</span>\n",
              "        <span style=\"color: #c0c0c0; text-decoration-color: #c0c0c0\">    Status: </span><span style=\"color: #008000; text-decoration-color: #008000; font-weight: bold\">In Progress</span>\n",
              "</pre>\n"
            ]
          },
          "metadata": {}
        },
        {
          "output_type": "display_data",
          "data": {
            "text/plain": [
              "\n"
            ],
            "text/html": [
              "<pre style=\"white-space:pre;overflow-x:auto;line-height:normal;font-family:Menlo,'DejaVu Sans Mono',consolas,'Courier New',monospace\">\n",
              "</pre>\n"
            ]
          },
          "metadata": {}
        },
        {
          "output_type": "stream",
          "name": "stdout",
          "text": [
            "\u001b[1m\u001b[95m# Agent:\u001b[00m \u001b[1m\u001b[92mrouter\u001b[00m\n",
            "\u001b[95m## Task:\u001b[00m \u001b[92manalyse the keywords present in question what is formula for attention score?based on keywords decide whether it is eligible for vectorstore , web-search or generationreturn a single word 'vectorstore' if it is eligible for vectorstorereturn a single word 'web-search' if it is eligible for web searchreturn a single word 'generation' if it is eligible for generation\u001b[00m\n",
            "\n",
            "\n",
            "\u001b[1m\u001b[95m# Agent:\u001b[00m \u001b[1m\u001b[92mrouter\u001b[00m\n",
            "\u001b[95m## Final Answer:\u001b[00m \u001b[92m\n",
            "vectorstore\u001b[00m\n",
            "\n",
            "\n"
          ]
        },
        {
          "output_type": "display_data",
          "data": {
            "text/plain": [
              "\u001b[1;36m🚀 Crew: \u001b[0m\u001b[1;36mcrew\u001b[0m\n",
              "└── \u001b[1;33m📋 Task: 77ef7a3e-1eb2-40a8-baac-38c1b1366012\u001b[0m\n",
              "    \u001b[37m   Status: \u001b[0m\u001b[2;33mExecuting Task...\u001b[0m\n",
              "    └── \u001b[1;32m🤖 Agent: \u001b[0m\u001b[32mrouter\u001b[0m\n",
              "        \u001b[37m    Status: \u001b[0m\u001b[1;32m✅ Completed\u001b[0m\n"
            ],
            "text/html": [
              "<pre style=\"white-space:pre;overflow-x:auto;line-height:normal;font-family:Menlo,'DejaVu Sans Mono',consolas,'Courier New',monospace\"><span style=\"color: #008080; text-decoration-color: #008080; font-weight: bold\">🚀 Crew: crew</span>\n",
              "└── <span style=\"color: #808000; text-decoration-color: #808000; font-weight: bold\">📋 Task: 77ef7a3e-1eb2-40a8-baac-38c1b1366012</span>\n",
              "    <span style=\"color: #c0c0c0; text-decoration-color: #c0c0c0\">   Status: </span><span style=\"color: #bfbf7f; text-decoration-color: #bfbf7f\">Executing Task...</span>\n",
              "    └── <span style=\"color: #008000; text-decoration-color: #008000; font-weight: bold\">🤖 Agent: </span><span style=\"color: #008000; text-decoration-color: #008000\">router</span>\n",
              "        <span style=\"color: #c0c0c0; text-decoration-color: #c0c0c0\">    Status: </span><span style=\"color: #008000; text-decoration-color: #008000; font-weight: bold\">✅ Completed</span>\n",
              "</pre>\n"
            ]
          },
          "metadata": {}
        },
        {
          "output_type": "display_data",
          "data": {
            "text/plain": [
              "\n"
            ],
            "text/html": [
              "<pre style=\"white-space:pre;overflow-x:auto;line-height:normal;font-family:Menlo,'DejaVu Sans Mono',consolas,'Courier New',monospace\">\n",
              "</pre>\n"
            ]
          },
          "metadata": {}
        },
        {
          "output_type": "display_data",
          "data": {
            "text/plain": [
              "\u001b[1;36m🚀 Crew: \u001b[0m\u001b[1;36mcrew\u001b[0m\n",
              "└── \u001b[1;32m📋 Task: 77ef7a3e-1eb2-40a8-baac-38c1b1366012\u001b[0m\n",
              "    \u001b[37m   Assigned to: \u001b[0m\u001b[32mrouter\u001b[0m\n",
              "    \u001b[37m   Status: \u001b[0m\u001b[1;32m✅ Completed\u001b[0m\n",
              "    └── \u001b[1;32m🤖 Agent: \u001b[0m\u001b[32mrouter\u001b[0m\n",
              "        \u001b[37m    Status: \u001b[0m\u001b[1;32m✅ Completed\u001b[0m\n"
            ],
            "text/html": [
              "<pre style=\"white-space:pre;overflow-x:auto;line-height:normal;font-family:Menlo,'DejaVu Sans Mono',consolas,'Courier New',monospace\"><span style=\"color: #008080; text-decoration-color: #008080; font-weight: bold\">🚀 Crew: crew</span>\n",
              "└── <span style=\"color: #008000; text-decoration-color: #008000; font-weight: bold\">📋 Task: 77ef7a3e-1eb2-40a8-baac-38c1b1366012</span>\n",
              "    <span style=\"color: #c0c0c0; text-decoration-color: #c0c0c0\">   Assigned to: </span><span style=\"color: #008000; text-decoration-color: #008000\">router</span>\n",
              "    <span style=\"color: #c0c0c0; text-decoration-color: #c0c0c0\">   Status: </span><span style=\"color: #008000; text-decoration-color: #008000; font-weight: bold\">✅ Completed</span>\n",
              "    └── <span style=\"color: #008000; text-decoration-color: #008000; font-weight: bold\">🤖 Agent: </span><span style=\"color: #008000; text-decoration-color: #008000\">router</span>\n",
              "        <span style=\"color: #c0c0c0; text-decoration-color: #c0c0c0\">    Status: </span><span style=\"color: #008000; text-decoration-color: #008000; font-weight: bold\">✅ Completed</span>\n",
              "</pre>\n"
            ]
          },
          "metadata": {}
        },
        {
          "output_type": "display_data",
          "data": {
            "text/plain": [
              "\u001b[32m╭─\u001b[0m\u001b[32m───────────────────────────────────────────────\u001b[0m\u001b[32m Task Completion \u001b[0m\u001b[32m───────────────────────────────────────────────\u001b[0m\u001b[32m─╮\u001b[0m\n",
              "\u001b[32m│\u001b[0m                                                                                                                 \u001b[32m│\u001b[0m\n",
              "\u001b[32m│\u001b[0m  \u001b[1;32mTask Completed\u001b[0m                                                                                                 \u001b[32m│\u001b[0m\n",
              "\u001b[32m│\u001b[0m  \u001b[37mName: \u001b[0m\u001b[32m77ef7a3e-1eb2-40a8-baac-38c1b1366012\u001b[0m                                                                     \u001b[32m│\u001b[0m\n",
              "\u001b[32m│\u001b[0m  \u001b[37mAgent: \u001b[0m\u001b[32mrouter\u001b[0m                                                                                                  \u001b[32m│\u001b[0m\n",
              "\u001b[32m│\u001b[0m                                                                                                                 \u001b[32m│\u001b[0m\n",
              "\u001b[32m│\u001b[0m                                                                                                                 \u001b[32m│\u001b[0m\n",
              "\u001b[32m╰─────────────────────────────────────────────────────────────────────────────────────────────────────────────────╯\u001b[0m\n"
            ],
            "text/html": [
              "<pre style=\"white-space:pre;overflow-x:auto;line-height:normal;font-family:Menlo,'DejaVu Sans Mono',consolas,'Courier New',monospace\"><span style=\"color: #008000; text-decoration-color: #008000\">╭──────────────────────────────────────────────── Task Completion ────────────────────────────────────────────────╮</span>\n",
              "<span style=\"color: #008000; text-decoration-color: #008000\">│</span>                                                                                                                 <span style=\"color: #008000; text-decoration-color: #008000\">│</span>\n",
              "<span style=\"color: #008000; text-decoration-color: #008000\">│</span>  <span style=\"color: #008000; text-decoration-color: #008000; font-weight: bold\">Task Completed</span>                                                                                                 <span style=\"color: #008000; text-decoration-color: #008000\">│</span>\n",
              "<span style=\"color: #008000; text-decoration-color: #008000\">│</span>  <span style=\"color: #c0c0c0; text-decoration-color: #c0c0c0\">Name: </span><span style=\"color: #008000; text-decoration-color: #008000\">77ef7a3e-1eb2-40a8-baac-38c1b1366012</span>                                                                     <span style=\"color: #008000; text-decoration-color: #008000\">│</span>\n",
              "<span style=\"color: #008000; text-decoration-color: #008000\">│</span>  <span style=\"color: #c0c0c0; text-decoration-color: #c0c0c0\">Agent: </span><span style=\"color: #008000; text-decoration-color: #008000\">router</span>                                                                                                  <span style=\"color: #008000; text-decoration-color: #008000\">│</span>\n",
              "<span style=\"color: #008000; text-decoration-color: #008000\">│</span>                                                                                                                 <span style=\"color: #008000; text-decoration-color: #008000\">│</span>\n",
              "<span style=\"color: #008000; text-decoration-color: #008000\">│</span>                                                                                                                 <span style=\"color: #008000; text-decoration-color: #008000\">│</span>\n",
              "<span style=\"color: #008000; text-decoration-color: #008000\">╰─────────────────────────────────────────────────────────────────────────────────────────────────────────────────╯</span>\n",
              "</pre>\n"
            ]
          },
          "metadata": {}
        },
        {
          "output_type": "display_data",
          "data": {
            "text/plain": [
              "\n"
            ],
            "text/html": [
              "<pre style=\"white-space:pre;overflow-x:auto;line-height:normal;font-family:Menlo,'DejaVu Sans Mono',consolas,'Courier New',monospace\">\n",
              "</pre>\n"
            ]
          },
          "metadata": {}
        },
        {
          "output_type": "display_data",
          "data": {
            "text/plain": [
              "\u001b[1;36m🚀 Crew: \u001b[0m\u001b[1;36mcrew\u001b[0m\n",
              "├── \u001b[1;32m📋 Task: 77ef7a3e-1eb2-40a8-baac-38c1b1366012\u001b[0m\n",
              "│   \u001b[37m   Assigned to: \u001b[0m\u001b[32mrouter\u001b[0m\n",
              "│   \u001b[37m   Status: \u001b[0m\u001b[1;32m✅ Completed\u001b[0m\n",
              "│   └── \u001b[1;32m🤖 Agent: \u001b[0m\u001b[32mrouter\u001b[0m\n",
              "│       \u001b[37m    Status: \u001b[0m\u001b[1;32m✅ Completed\u001b[0m\n",
              "└── \u001b[1;33m📋 Task: a6ad67ad-58f2-482d-a2be-7801f8f85c96\u001b[0m\n",
              "    \u001b[37m   Status: \u001b[0m\u001b[2;33mExecuting Task...\u001b[0m\n"
            ],
            "text/html": [
              "<pre style=\"white-space:pre;overflow-x:auto;line-height:normal;font-family:Menlo,'DejaVu Sans Mono',consolas,'Courier New',monospace\"><span style=\"color: #008080; text-decoration-color: #008080; font-weight: bold\">🚀 Crew: crew</span>\n",
              "├── <span style=\"color: #008000; text-decoration-color: #008000; font-weight: bold\">📋 Task: 77ef7a3e-1eb2-40a8-baac-38c1b1366012</span>\n",
              "│   <span style=\"color: #c0c0c0; text-decoration-color: #c0c0c0\">   Assigned to: </span><span style=\"color: #008000; text-decoration-color: #008000\">router</span>\n",
              "│   <span style=\"color: #c0c0c0; text-decoration-color: #c0c0c0\">   Status: </span><span style=\"color: #008000; text-decoration-color: #008000; font-weight: bold\">✅ Completed</span>\n",
              "│   └── <span style=\"color: #008000; text-decoration-color: #008000; font-weight: bold\">🤖 Agent: </span><span style=\"color: #008000; text-decoration-color: #008000\">router</span>\n",
              "│       <span style=\"color: #c0c0c0; text-decoration-color: #c0c0c0\">    Status: </span><span style=\"color: #008000; text-decoration-color: #008000; font-weight: bold\">✅ Completed</span>\n",
              "└── <span style=\"color: #808000; text-decoration-color: #808000; font-weight: bold\">📋 Task: a6ad67ad-58f2-482d-a2be-7801f8f85c96</span>\n",
              "    <span style=\"color: #c0c0c0; text-decoration-color: #c0c0c0\">   Status: </span><span style=\"color: #bfbf7f; text-decoration-color: #bfbf7f\">Executing Task...</span>\n",
              "</pre>\n"
            ]
          },
          "metadata": {}
        },
        {
          "output_type": "display_data",
          "data": {
            "text/plain": [
              "\n"
            ],
            "text/html": [
              "<pre style=\"white-space:pre;overflow-x:auto;line-height:normal;font-family:Menlo,'DejaVu Sans Mono',consolas,'Courier New',monospace\">\n",
              "</pre>\n"
            ]
          },
          "metadata": {}
        },
        {
          "output_type": "display_data",
          "data": {
            "text/plain": [
              "\u001b[1;36m🚀 Crew: \u001b[0m\u001b[1;36mcrew\u001b[0m\n",
              "├── \u001b[1;32m📋 Task: 77ef7a3e-1eb2-40a8-baac-38c1b1366012\u001b[0m\n",
              "│   \u001b[37m   Assigned to: \u001b[0m\u001b[32mrouter\u001b[0m\n",
              "│   \u001b[37m   Status: \u001b[0m\u001b[1;32m✅ Completed\u001b[0m\n",
              "│   └── \u001b[1;32m🤖 Agent: \u001b[0m\u001b[32mrouter\u001b[0m\n",
              "│       \u001b[37m    Status: \u001b[0m\u001b[1;32m✅ Completed\u001b[0m\n",
              "└── \u001b[1;33m📋 Task: a6ad67ad-58f2-482d-a2be-7801f8f85c96\u001b[0m\n",
              "    \u001b[37m   Status: \u001b[0m\u001b[2;33mExecuting Task...\u001b[0m\n",
              "    └── \u001b[1;32m🤖 Agent: \u001b[0m\u001b[32mretriever\u001b[0m\n",
              "        \u001b[37m    Status: \u001b[0m\u001b[1;32mIn Progress\u001b[0m\n"
            ],
            "text/html": [
              "<pre style=\"white-space:pre;overflow-x:auto;line-height:normal;font-family:Menlo,'DejaVu Sans Mono',consolas,'Courier New',monospace\"><span style=\"color: #008080; text-decoration-color: #008080; font-weight: bold\">🚀 Crew: crew</span>\n",
              "├── <span style=\"color: #008000; text-decoration-color: #008000; font-weight: bold\">📋 Task: 77ef7a3e-1eb2-40a8-baac-38c1b1366012</span>\n",
              "│   <span style=\"color: #c0c0c0; text-decoration-color: #c0c0c0\">   Assigned to: </span><span style=\"color: #008000; text-decoration-color: #008000\">router</span>\n",
              "│   <span style=\"color: #c0c0c0; text-decoration-color: #c0c0c0\">   Status: </span><span style=\"color: #008000; text-decoration-color: #008000; font-weight: bold\">✅ Completed</span>\n",
              "│   └── <span style=\"color: #008000; text-decoration-color: #008000; font-weight: bold\">🤖 Agent: </span><span style=\"color: #008000; text-decoration-color: #008000\">router</span>\n",
              "│       <span style=\"color: #c0c0c0; text-decoration-color: #c0c0c0\">    Status: </span><span style=\"color: #008000; text-decoration-color: #008000; font-weight: bold\">✅ Completed</span>\n",
              "└── <span style=\"color: #808000; text-decoration-color: #808000; font-weight: bold\">📋 Task: a6ad67ad-58f2-482d-a2be-7801f8f85c96</span>\n",
              "    <span style=\"color: #c0c0c0; text-decoration-color: #c0c0c0\">   Status: </span><span style=\"color: #bfbf7f; text-decoration-color: #bfbf7f\">Executing Task...</span>\n",
              "    └── <span style=\"color: #008000; text-decoration-color: #008000; font-weight: bold\">🤖 Agent: </span><span style=\"color: #008000; text-decoration-color: #008000\">retriever</span>\n",
              "        <span style=\"color: #c0c0c0; text-decoration-color: #c0c0c0\">    Status: </span><span style=\"color: #008000; text-decoration-color: #008000; font-weight: bold\">In Progress</span>\n",
              "</pre>\n"
            ]
          },
          "metadata": {}
        },
        {
          "output_type": "display_data",
          "data": {
            "text/plain": [
              "\n"
            ],
            "text/html": [
              "<pre style=\"white-space:pre;overflow-x:auto;line-height:normal;font-family:Menlo,'DejaVu Sans Mono',consolas,'Courier New',monospace\">\n",
              "</pre>\n"
            ]
          },
          "metadata": {}
        },
        {
          "output_type": "stream",
          "name": "stdout",
          "text": [
            "\u001b[1m\u001b[95m# Agent:\u001b[00m \u001b[1m\u001b[92mretriever\u001b[00m\n",
            "\u001b[95m## Task:\u001b[00m \u001b[92mbased on the response from router task extract information for user question what is formula for attention score? with the help respective toolif router task output is 'web-search' then call the web_search_tool tool to reterived informationif router task output is 'vectorstore' then call the pdf_search_tool tool to reterived informationif router task output is 'generation' then call the generation_tool tool to reterived information\u001b[00m\n"
          ]
        },
        {
          "output_type": "display_data",
          "data": {
            "text/plain": [
              "\u001b[1;32m🤖 Agent: \u001b[0m\u001b[32mretriever\u001b[0m\n",
              "\u001b[37m    Status: \u001b[0m\u001b[1;32mIn Progress\u001b[0m\n"
            ],
            "text/html": [
              "<pre style=\"white-space:pre;overflow-x:auto;line-height:normal;font-family:Menlo,'DejaVu Sans Mono',consolas,'Courier New',monospace\"><span style=\"color: #008000; text-decoration-color: #008000; font-weight: bold\">🤖 Agent: </span><span style=\"color: #008000; text-decoration-color: #008000\">retriever</span>\n",
              "<span style=\"color: #c0c0c0; text-decoration-color: #c0c0c0\">    Status: </span><span style=\"color: #008000; text-decoration-color: #008000; font-weight: bold\">In Progress</span>\n",
              "</pre>\n"
            ]
          },
          "metadata": {}
        },
        {
          "output_type": "display_data",
          "data": {
            "text/plain": [
              "\n"
            ],
            "text/html": [
              "<pre style=\"white-space:pre;overflow-x:auto;line-height:normal;font-family:Menlo,'DejaVu Sans Mono',consolas,'Courier New',monospace\">\n",
              "</pre>\n"
            ]
          },
          "metadata": {}
        },
        {
          "output_type": "stream",
          "name": "stdout",
          "text": [
            "\n",
            "\n",
            "\u001b[1m\u001b[95m# Agent:\u001b[00m \u001b[1m\u001b[92mretriever\u001b[00m\n",
            "\u001b[95m## Thought:\u001b[00m \u001b[92mThought: The router task output is 'vectorstore', which means I need to use the Search a PDF's content tool to retrieve information about the formula for attention score.\u001b[00m\n",
            "\u001b[95m## Using tool:\u001b[00m \u001b[92mSearch a PDF's content\u001b[00m\n",
            "\u001b[95m## Tool Input:\u001b[00m \u001b[92m\n",
            "\"{\\\"query\\\": \\\"formula for attention score\\\"}\"\u001b[00m\n",
            "\u001b[95m## Tool Output:\u001b[00m \u001b[92m\n",
            "Relevant Content:\n",
            "Scaled Dot-Product Attention Multi-Head Attention Figure 2: (left) Scaled Dot-Product Attention. (right) Multi-Head Attention consists of several attention layers running in parallel. of the values, where the weight assigned to each value is computed by a compatibility function of the query with the corresponding key. 3.2.1 Scaled Dot-Product Attention We call our particular attention \"Scaled Dot-Product Attention\" (Figure 2). The input consists of queries and keys of dimension dk, and values of dimension dv. We compute the dot products of the query with all keys, divide each by √dk, and apply a softmax function to obtain the weights on the values. In practice, we compute the attention function on a set of queries simultaneously, packed together into a matrix Q. The keys and values are also packed together into matrices K and V . We compute the matrix of outputs as: Attention(Q, K, V) = softmax(QKT √dk )V (1) The two most commonly used attention functions are additive attention [2],\n",
            "\n",
            "learning. arXiv preprint arXiv:1511.06114, 2015. [24] Minh-Thang Luong, Hieu Pham, and Christopher D Manning. Effective approaches to attention- based neural machine translation. arXiv preprint arXiv:1508.04025, 2015. 11\n",
            "\n",
            "beneficial to linearly project the queries, keys and values h times with different, learned linear projections to dk, dk and dv dimensions, respectively. On each of these projected versions of queries, keys and values we then perform the attention function in parallel, yielding dv-dimensional 4To illustrate why the dot products get large, assume that the components of q and k are independent random variables with mean 0 and variance 1. Then their dot product, q · k = Pdk i=1 qiki, has mean 0 and variance dk. 4\u001b[00m\n"
          ]
        },
        {
          "output_type": "stream",
          "name": "stderr",
          "text": [
            "/usr/local/lib/python3.11/dist-packages/chromadb/types.py:144: PydanticDeprecatedSince211: Accessing the 'model_fields' attribute on the instance is deprecated. Instead, you should access this attribute from the model class. Deprecated in Pydantic V2.11 to be removed in V3.0.\n",
            "  return self.model_fields  # pydantic 2.x\n"
          ]
        },
        {
          "output_type": "display_data",
          "data": {
            "text/plain": [
              "\u001b[1;32m🤖 Agent: \u001b[0m\u001b[32mretriever\u001b[0m\n",
              "\u001b[37m    Status: \u001b[0m\u001b[1;32mIn Progress\u001b[0m\n",
              "└── \u001b[1;34m🧠 \u001b[0m\u001b[34mThinking...\u001b[0m\n"
            ],
            "text/html": [
              "<pre style=\"white-space:pre;overflow-x:auto;line-height:normal;font-family:Menlo,'DejaVu Sans Mono',consolas,'Courier New',monospace\"><span style=\"color: #008000; text-decoration-color: #008000; font-weight: bold\">🤖 Agent: </span><span style=\"color: #008000; text-decoration-color: #008000\">retriever</span>\n",
              "<span style=\"color: #c0c0c0; text-decoration-color: #c0c0c0\">    Status: </span><span style=\"color: #008000; text-decoration-color: #008000; font-weight: bold\">In Progress</span>\n",
              "└── <span style=\"color: #000080; text-decoration-color: #000080; font-weight: bold\">🧠 </span><span style=\"color: #000080; text-decoration-color: #000080\">Thinking...</span>\n",
              "</pre>\n"
            ]
          },
          "metadata": {}
        },
        {
          "output_type": "display_data",
          "data": {
            "text/plain": [
              "\n"
            ],
            "text/html": [
              "<pre style=\"white-space:pre;overflow-x:auto;line-height:normal;font-family:Menlo,'DejaVu Sans Mono',consolas,'Courier New',monospace\">\n",
              "</pre>\n"
            ]
          },
          "metadata": {}
        },
        {
          "output_type": "display_data",
          "data": {
            "text/plain": [
              "\u001b[1;32m🤖 Agent: \u001b[0m\u001b[32mretriever\u001b[0m\n",
              "\u001b[37m    Status: \u001b[0m\u001b[1;32mIn Progress\u001b[0m\n"
            ],
            "text/html": [
              "<pre style=\"white-space:pre;overflow-x:auto;line-height:normal;font-family:Menlo,'DejaVu Sans Mono',consolas,'Courier New',monospace\"><span style=\"color: #008000; text-decoration-color: #008000; font-weight: bold\">🤖 Agent: </span><span style=\"color: #008000; text-decoration-color: #008000\">retriever</span>\n",
              "<span style=\"color: #c0c0c0; text-decoration-color: #c0c0c0\">    Status: </span><span style=\"color: #008000; text-decoration-color: #008000; font-weight: bold\">In Progress</span>\n",
              "</pre>\n"
            ]
          },
          "metadata": {}
        },
        {
          "output_type": "display_data",
          "data": {
            "text/plain": [
              "\n"
            ],
            "text/html": [
              "<pre style=\"white-space:pre;overflow-x:auto;line-height:normal;font-family:Menlo,'DejaVu Sans Mono',consolas,'Courier New',monospace\">\n",
              "</pre>\n"
            ]
          },
          "metadata": {}
        },
        {
          "output_type": "stream",
          "name": "stdout",
          "text": [
            "\n",
            "\n",
            "\u001b[1m\u001b[95m# Agent:\u001b[00m \u001b[1m\u001b[92mretriever\u001b[00m\n",
            "\u001b[95m## Final Answer:\u001b[00m \u001b[92m\n",
            "The formula for attention score is: Attention(Q, K, V) = softmax(QKT √dk )V (1) where Q, K, and V are matrices representing the queries, keys, and values, respectively, and dk is the dimension of the keys. The attention function computes the dot products of the query with all keys, divides each by √dk, and applies a softmax function to obtain the weights on the values.\u001b[00m\n",
            "\n",
            "\n"
          ]
        },
        {
          "output_type": "display_data",
          "data": {
            "text/plain": [
              "\u001b[1;36m🚀 Crew: \u001b[0m\u001b[1;36mcrew\u001b[0m\n",
              "├── \u001b[1;32m📋 Task: 77ef7a3e-1eb2-40a8-baac-38c1b1366012\u001b[0m\n",
              "│   \u001b[37m   Assigned to: \u001b[0m\u001b[32mrouter\u001b[0m\n",
              "│   \u001b[37m   Status: \u001b[0m\u001b[1;32m✅ Completed\u001b[0m\n",
              "│   └── \u001b[1;32m🤖 Agent: \u001b[0m\u001b[32mrouter\u001b[0m\n",
              "│       \u001b[37m    Status: \u001b[0m\u001b[1;32m✅ Completed\u001b[0m\n",
              "└── \u001b[1;33m📋 Task: a6ad67ad-58f2-482d-a2be-7801f8f85c96\u001b[0m\n",
              "    \u001b[37m   Status: \u001b[0m\u001b[2;33mExecuting Task...\u001b[0m\n",
              "    └── \u001b[1;32m🤖 Agent: \u001b[0m\u001b[32mretriever\u001b[0m\n",
              "        \u001b[37m    Status: \u001b[0m\u001b[1;32m✅ Completed\u001b[0m\n"
            ],
            "text/html": [
              "<pre style=\"white-space:pre;overflow-x:auto;line-height:normal;font-family:Menlo,'DejaVu Sans Mono',consolas,'Courier New',monospace\"><span style=\"color: #008080; text-decoration-color: #008080; font-weight: bold\">🚀 Crew: crew</span>\n",
              "├── <span style=\"color: #008000; text-decoration-color: #008000; font-weight: bold\">📋 Task: 77ef7a3e-1eb2-40a8-baac-38c1b1366012</span>\n",
              "│   <span style=\"color: #c0c0c0; text-decoration-color: #c0c0c0\">   Assigned to: </span><span style=\"color: #008000; text-decoration-color: #008000\">router</span>\n",
              "│   <span style=\"color: #c0c0c0; text-decoration-color: #c0c0c0\">   Status: </span><span style=\"color: #008000; text-decoration-color: #008000; font-weight: bold\">✅ Completed</span>\n",
              "│   └── <span style=\"color: #008000; text-decoration-color: #008000; font-weight: bold\">🤖 Agent: </span><span style=\"color: #008000; text-decoration-color: #008000\">router</span>\n",
              "│       <span style=\"color: #c0c0c0; text-decoration-color: #c0c0c0\">    Status: </span><span style=\"color: #008000; text-decoration-color: #008000; font-weight: bold\">✅ Completed</span>\n",
              "└── <span style=\"color: #808000; text-decoration-color: #808000; font-weight: bold\">📋 Task: a6ad67ad-58f2-482d-a2be-7801f8f85c96</span>\n",
              "    <span style=\"color: #c0c0c0; text-decoration-color: #c0c0c0\">   Status: </span><span style=\"color: #bfbf7f; text-decoration-color: #bfbf7f\">Executing Task...</span>\n",
              "    └── <span style=\"color: #008000; text-decoration-color: #008000; font-weight: bold\">🤖 Agent: </span><span style=\"color: #008000; text-decoration-color: #008000\">retriever</span>\n",
              "        <span style=\"color: #c0c0c0; text-decoration-color: #c0c0c0\">    Status: </span><span style=\"color: #008000; text-decoration-color: #008000; font-weight: bold\">✅ Completed</span>\n",
              "</pre>\n"
            ]
          },
          "metadata": {}
        },
        {
          "output_type": "display_data",
          "data": {
            "text/plain": [
              "\n"
            ],
            "text/html": [
              "<pre style=\"white-space:pre;overflow-x:auto;line-height:normal;font-family:Menlo,'DejaVu Sans Mono',consolas,'Courier New',monospace\">\n",
              "</pre>\n"
            ]
          },
          "metadata": {}
        },
        {
          "output_type": "display_data",
          "data": {
            "text/plain": [
              "\u001b[1;36m🚀 Crew: \u001b[0m\u001b[1;36mcrew\u001b[0m\n",
              "├── \u001b[1;32m📋 Task: 77ef7a3e-1eb2-40a8-baac-38c1b1366012\u001b[0m\n",
              "│   \u001b[37m   Assigned to: \u001b[0m\u001b[32mrouter\u001b[0m\n",
              "│   \u001b[37m   Status: \u001b[0m\u001b[1;32m✅ Completed\u001b[0m\n",
              "│   └── \u001b[1;32m🤖 Agent: \u001b[0m\u001b[32mrouter\u001b[0m\n",
              "│       \u001b[37m    Status: \u001b[0m\u001b[1;32m✅ Completed\u001b[0m\n",
              "└── \u001b[1;32m📋 Task: a6ad67ad-58f2-482d-a2be-7801f8f85c96\u001b[0m\n",
              "    \u001b[37m   Assigned to: \u001b[0m\u001b[32mretriever\u001b[0m\n",
              "    \u001b[37m   Status: \u001b[0m\u001b[1;32m✅ Completed\u001b[0m\n",
              "    └── \u001b[1;32m🤖 Agent: \u001b[0m\u001b[32mretriever\u001b[0m\n",
              "        \u001b[37m    Status: \u001b[0m\u001b[1;32m✅ Completed\u001b[0m\n"
            ],
            "text/html": [
              "<pre style=\"white-space:pre;overflow-x:auto;line-height:normal;font-family:Menlo,'DejaVu Sans Mono',consolas,'Courier New',monospace\"><span style=\"color: #008080; text-decoration-color: #008080; font-weight: bold\">🚀 Crew: crew</span>\n",
              "├── <span style=\"color: #008000; text-decoration-color: #008000; font-weight: bold\">📋 Task: 77ef7a3e-1eb2-40a8-baac-38c1b1366012</span>\n",
              "│   <span style=\"color: #c0c0c0; text-decoration-color: #c0c0c0\">   Assigned to: </span><span style=\"color: #008000; text-decoration-color: #008000\">router</span>\n",
              "│   <span style=\"color: #c0c0c0; text-decoration-color: #c0c0c0\">   Status: </span><span style=\"color: #008000; text-decoration-color: #008000; font-weight: bold\">✅ Completed</span>\n",
              "│   └── <span style=\"color: #008000; text-decoration-color: #008000; font-weight: bold\">🤖 Agent: </span><span style=\"color: #008000; text-decoration-color: #008000\">router</span>\n",
              "│       <span style=\"color: #c0c0c0; text-decoration-color: #c0c0c0\">    Status: </span><span style=\"color: #008000; text-decoration-color: #008000; font-weight: bold\">✅ Completed</span>\n",
              "└── <span style=\"color: #008000; text-decoration-color: #008000; font-weight: bold\">📋 Task: a6ad67ad-58f2-482d-a2be-7801f8f85c96</span>\n",
              "    <span style=\"color: #c0c0c0; text-decoration-color: #c0c0c0\">   Assigned to: </span><span style=\"color: #008000; text-decoration-color: #008000\">retriever</span>\n",
              "    <span style=\"color: #c0c0c0; text-decoration-color: #c0c0c0\">   Status: </span><span style=\"color: #008000; text-decoration-color: #008000; font-weight: bold\">✅ Completed</span>\n",
              "    └── <span style=\"color: #008000; text-decoration-color: #008000; font-weight: bold\">🤖 Agent: </span><span style=\"color: #008000; text-decoration-color: #008000\">retriever</span>\n",
              "        <span style=\"color: #c0c0c0; text-decoration-color: #c0c0c0\">    Status: </span><span style=\"color: #008000; text-decoration-color: #008000; font-weight: bold\">✅ Completed</span>\n",
              "</pre>\n"
            ]
          },
          "metadata": {}
        },
        {
          "output_type": "display_data",
          "data": {
            "text/plain": [
              "\u001b[32m╭─\u001b[0m\u001b[32m───────────────────────────────────────────────\u001b[0m\u001b[32m Task Completion \u001b[0m\u001b[32m───────────────────────────────────────────────\u001b[0m\u001b[32m─╮\u001b[0m\n",
              "\u001b[32m│\u001b[0m                                                                                                                 \u001b[32m│\u001b[0m\n",
              "\u001b[32m│\u001b[0m  \u001b[1;32mTask Completed\u001b[0m                                                                                                 \u001b[32m│\u001b[0m\n",
              "\u001b[32m│\u001b[0m  \u001b[37mName: \u001b[0m\u001b[32ma6ad67ad-58f2-482d-a2be-7801f8f85c96\u001b[0m                                                                     \u001b[32m│\u001b[0m\n",
              "\u001b[32m│\u001b[0m  \u001b[37mAgent: \u001b[0m\u001b[32mretriever\u001b[0m                                                                                               \u001b[32m│\u001b[0m\n",
              "\u001b[32m│\u001b[0m                                                                                                                 \u001b[32m│\u001b[0m\n",
              "\u001b[32m│\u001b[0m                                                                                                                 \u001b[32m│\u001b[0m\n",
              "\u001b[32m╰─────────────────────────────────────────────────────────────────────────────────────────────────────────────────╯\u001b[0m\n"
            ],
            "text/html": [
              "<pre style=\"white-space:pre;overflow-x:auto;line-height:normal;font-family:Menlo,'DejaVu Sans Mono',consolas,'Courier New',monospace\"><span style=\"color: #008000; text-decoration-color: #008000\">╭──────────────────────────────────────────────── Task Completion ────────────────────────────────────────────────╮</span>\n",
              "<span style=\"color: #008000; text-decoration-color: #008000\">│</span>                                                                                                                 <span style=\"color: #008000; text-decoration-color: #008000\">│</span>\n",
              "<span style=\"color: #008000; text-decoration-color: #008000\">│</span>  <span style=\"color: #008000; text-decoration-color: #008000; font-weight: bold\">Task Completed</span>                                                                                                 <span style=\"color: #008000; text-decoration-color: #008000\">│</span>\n",
              "<span style=\"color: #008000; text-decoration-color: #008000\">│</span>  <span style=\"color: #c0c0c0; text-decoration-color: #c0c0c0\">Name: </span><span style=\"color: #008000; text-decoration-color: #008000\">a6ad67ad-58f2-482d-a2be-7801f8f85c96</span>                                                                     <span style=\"color: #008000; text-decoration-color: #008000\">│</span>\n",
              "<span style=\"color: #008000; text-decoration-color: #008000\">│</span>  <span style=\"color: #c0c0c0; text-decoration-color: #c0c0c0\">Agent: </span><span style=\"color: #008000; text-decoration-color: #008000\">retriever</span>                                                                                               <span style=\"color: #008000; text-decoration-color: #008000\">│</span>\n",
              "<span style=\"color: #008000; text-decoration-color: #008000\">│</span>                                                                                                                 <span style=\"color: #008000; text-decoration-color: #008000\">│</span>\n",
              "<span style=\"color: #008000; text-decoration-color: #008000\">│</span>                                                                                                                 <span style=\"color: #008000; text-decoration-color: #008000\">│</span>\n",
              "<span style=\"color: #008000; text-decoration-color: #008000\">╰─────────────────────────────────────────────────────────────────────────────────────────────────────────────────╯</span>\n",
              "</pre>\n"
            ]
          },
          "metadata": {}
        },
        {
          "output_type": "display_data",
          "data": {
            "text/plain": [
              "\n"
            ],
            "text/html": [
              "<pre style=\"white-space:pre;overflow-x:auto;line-height:normal;font-family:Menlo,'DejaVu Sans Mono',consolas,'Courier New',monospace\">\n",
              "</pre>\n"
            ]
          },
          "metadata": {}
        },
        {
          "output_type": "display_data",
          "data": {
            "text/plain": [
              "\u001b[32m╭─\u001b[0m\u001b[32m───────────────────────────────────────────────\u001b[0m\u001b[32m Crew Completion \u001b[0m\u001b[32m───────────────────────────────────────────────\u001b[0m\u001b[32m─╮\u001b[0m\n",
              "\u001b[32m│\u001b[0m                                                                                                                 \u001b[32m│\u001b[0m\n",
              "\u001b[32m│\u001b[0m  \u001b[1;32mCrew Execution Completed\u001b[0m                                                                                       \u001b[32m│\u001b[0m\n",
              "\u001b[32m│\u001b[0m  \u001b[37mName: \u001b[0m\u001b[32mcrew\u001b[0m                                                                                                     \u001b[32m│\u001b[0m\n",
              "\u001b[32m│\u001b[0m  \u001b[37mID: \u001b[0m\u001b[32m4b5125b6-24e6-4de6-b958-61a0bc1955e5\u001b[0m                                                                       \u001b[32m│\u001b[0m\n",
              "\u001b[32m│\u001b[0m                                                                                                                 \u001b[32m│\u001b[0m\n",
              "\u001b[32m│\u001b[0m                                                                                                                 \u001b[32m│\u001b[0m\n",
              "\u001b[32m╰─────────────────────────────────────────────────────────────────────────────────────────────────────────────────╯\u001b[0m\n"
            ],
            "text/html": [
              "<pre style=\"white-space:pre;overflow-x:auto;line-height:normal;font-family:Menlo,'DejaVu Sans Mono',consolas,'Courier New',monospace\"><span style=\"color: #008000; text-decoration-color: #008000\">╭──────────────────────────────────────────────── Crew Completion ────────────────────────────────────────────────╮</span>\n",
              "<span style=\"color: #008000; text-decoration-color: #008000\">│</span>                                                                                                                 <span style=\"color: #008000; text-decoration-color: #008000\">│</span>\n",
              "<span style=\"color: #008000; text-decoration-color: #008000\">│</span>  <span style=\"color: #008000; text-decoration-color: #008000; font-weight: bold\">Crew Execution Completed</span>                                                                                       <span style=\"color: #008000; text-decoration-color: #008000\">│</span>\n",
              "<span style=\"color: #008000; text-decoration-color: #008000\">│</span>  <span style=\"color: #c0c0c0; text-decoration-color: #c0c0c0\">Name: </span><span style=\"color: #008000; text-decoration-color: #008000\">crew</span>                                                                                                     <span style=\"color: #008000; text-decoration-color: #008000\">│</span>\n",
              "<span style=\"color: #008000; text-decoration-color: #008000\">│</span>  <span style=\"color: #c0c0c0; text-decoration-color: #c0c0c0\">ID: </span><span style=\"color: #008000; text-decoration-color: #008000\">4b5125b6-24e6-4de6-b958-61a0bc1955e5</span>                                                                       <span style=\"color: #008000; text-decoration-color: #008000\">│</span>\n",
              "<span style=\"color: #008000; text-decoration-color: #008000\">│</span>                                                                                                                 <span style=\"color: #008000; text-decoration-color: #008000\">│</span>\n",
              "<span style=\"color: #008000; text-decoration-color: #008000\">│</span>                                                                                                                 <span style=\"color: #008000; text-decoration-color: #008000\">│</span>\n",
              "<span style=\"color: #008000; text-decoration-color: #008000\">╰─────────────────────────────────────────────────────────────────────────────────────────────────────────────────╯</span>\n",
              "</pre>\n"
            ]
          },
          "metadata": {}
        },
        {
          "output_type": "display_data",
          "data": {
            "text/plain": [
              "\n"
            ],
            "text/html": [
              "<pre style=\"white-space:pre;overflow-x:auto;line-height:normal;font-family:Menlo,'DejaVu Sans Mono',consolas,'Courier New',monospace\">\n",
              "</pre>\n"
            ]
          },
          "metadata": {}
        },
        {
          "output_type": "execute_result",
          "data": {
            "text/plain": [
              "CrewOutput(raw='The formula for attention score is: Attention(Q, K, V) = softmax(QKT √dk )V (1) where Q, K, and V are matrices representing the queries, keys, and values, respectively, and dk is the dimension of the keys. The attention function computes the dot products of the query with all keys, divides each by √dk, and applies a softmax function to obtain the weights on the values.', pydantic=None, json_dict=None, tasks_output=[TaskOutput(description=\"analyse the keywords present in question what is formula for attention score?based on keywords decide whether it is eligible for vectorstore , web-search or generationreturn a single word 'vectorstore' if it is eligible for vectorstorereturn a single word 'web-search' if it is eligible for web searchreturn a single word 'generation' if it is eligible for generation\", name=None, expected_output=\"based on question return a single word from ['vectorstore', 'web-search', 'generation']\", summary='analyse the keywords present in question what is formula for...', raw='vectorstore', pydantic=None, json_dict=None, agent='router', output_format=<OutputFormat.RAW: 'raw'>), TaskOutput(description=\"based on the response from router task extract information for user question what is formula for attention score? with the help respective toolif router task output is 'web-search' then call the web_search_tool tool to reterived informationif router task output is 'vectorstore' then call the pdf_search_tool tool to reterived informationif router task output is 'generation' then call the generation_tool tool to reterived information\", name=None, expected_output=\"always analyse the output from 'router task'return a clear and concise test as reponse after using correct tool \", summary='based on the response from router task extract information for...', raw='The formula for attention score is: Attention(Q, K, V) = softmax(QKT √dk )V (1) where Q, K, and V are matrices representing the queries, keys, and values, respectively, and dk is the dimension of the keys. The attention function computes the dot products of the query with all keys, divides each by √dk, and applies a softmax function to obtain the weights on the values.', pydantic=None, json_dict=None, agent='retriever', output_format=<OutputFormat.RAW: 'raw'>)], token_usage=UsageMetrics(total_tokens=6074, prompt_tokens=5092, cached_prompt_tokens=0, completion_tokens=982, successful_requests=7))"
            ]
          },
          "metadata": {},
          "execution_count": 26
        }
      ]
    },
    {
      "cell_type": "code",
      "source": [],
      "metadata": {
        "id": "RgtP8Jl7S8YJ"
      },
      "execution_count": null,
      "outputs": []
    }
  ]
}